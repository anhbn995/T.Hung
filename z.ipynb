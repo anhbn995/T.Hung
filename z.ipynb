{
 "cells": [
  {
   "cell_type": "code",
   "execution_count": 1,
   "metadata": {},
   "outputs": [
    {
     "data": {
      "text/plain": [
       "['germany2020', 'germany2020_label', 'Manila2020', 'poland2020']"
      ]
     },
     "execution_count": 1,
     "metadata": {},
     "output_type": "execute_result"
    }
   ],
   "source": [
    "import os\n",
    "def create_list_id(path):\n",
    "    list_id = []\n",
    "    for file in os.listdir(path):\n",
    "        if file.endswith(\".tif\"):\n",
    "            list_id.append(file[:-4])\n",
    "    return list_id\n",
    "create_list_id(r'D:\\HIEUUUUUU\\land_cover\\data_biuldup\\green_cover\\images') "
   ]
  },
  {
   "cell_type": "code",
   "execution_count": 1,
   "metadata": {},
   "outputs": [
    {
     "name": "stdout",
     "output_type": "stream",
     "text": [
      "buildUp\n",
      "green\n",
      "water\n"
     ]
    }
   ],
   "source": [
    "thu_tu_lop = {'buildUp': 1, \n",
    "                'green':2,\n",
    "                'water':3}\n",
    "\n",
    "for i in thu_tu_lop:\n",
    "    print(i)"
   ]
  },
  {
   "cell_type": "code",
   "execution_count": 3,
   "metadata": {},
   "outputs": [
    {
     "data": {
      "text/plain": [
       "'a\\\\s\\\\z'"
      ]
     },
     "execution_count": 3,
     "metadata": {},
     "output_type": "execute_result"
    }
   ],
   "source": [
    "import os\n",
    "os.path.join('a','s','z')"
   ]
  },
  {
   "cell_type": "code",
   "execution_count": null,
   "metadata": {},
   "outputs": [],
   "source": []
  }
 ],
 "metadata": {
  "kernelspec": {
   "display_name": "geoai",
   "language": "python",
   "name": "python3"
  },
  "language_info": {
   "codemirror_mode": {
    "name": "ipython",
    "version": 3
   },
   "file_extension": ".py",
   "mimetype": "text/x-python",
   "name": "python",
   "nbconvert_exporter": "python",
   "pygments_lexer": "ipython3",
   "version": "3.8.15"
  },
  "orig_nbformat": 4,
  "vscode": {
   "interpreter": {
    "hash": "c80695b9b8a6ca71725d2aace0c26b2a47a226bee118a265485db7546acf08f0"
   }
  }
 },
 "nbformat": 4,
 "nbformat_minor": 2
}
